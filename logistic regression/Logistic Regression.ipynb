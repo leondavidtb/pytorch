{
 "cells": [
  {
   "cell_type": "code",
   "execution_count": 1,
   "metadata": {},
   "outputs": [],
   "source": [
    "import torch\n",
    "import torch.nn as nn\n",
    "import numpy as np\n",
    "from sklearn import datasets\n",
    "from sklearn.preprocessing import StandardScaler\n",
    "from sklearn.model_selection import train_test_split"
   ]
  },
  {
   "cell_type": "code",
   "execution_count": 2,
   "metadata": {},
   "outputs": [
    {
     "name": "stdout",
     "output_type": "stream",
     "text": [
      "569 30\n"
     ]
    }
   ],
   "source": [
    "# prepare data\n",
    "df = datasets.load_breast_cancer()\n",
    "X, y = df.data, df.target\n",
    "\n",
    "n_samples, n_features = X.shape\n",
    "print(n_samples, n_features)"
   ]
  },
  {
   "cell_type": "code",
   "execution_count": 3,
   "metadata": {},
   "outputs": [],
   "source": [
    "# split data\n",
    "X_train, X_test, y_train, y_test = train_test_split(X, y, test_size=0.2, random_state=1234)\n",
    "\n",
    "# scale features\n",
    "standard_scaler = StandardScaler()\n",
    "X_train = standard_scaler.fit_transform(X_train)\n",
    "X_test = standard_scaler.transform(X_test)\n",
    "\n",
    "# transform torch tensors\n",
    "X_train = torch.from_numpy(X_train.astype(np.float32))\n",
    "X_test = torch.from_numpy(X_test.astype(np.float32))\n",
    "y_train = torch.from_numpy(y_train.astype(np.float32))\n",
    "y_test = torch.from_numpy(y_test.astype(np.float32))\n",
    "\n",
    "# reshape y -> 1 row\n",
    "y_train = y_train.view(y_train.shape[0], 1)\n",
    "y_test = y_test.view(y_test.shape[0], 1)"
   ]
  },
  {
   "cell_type": "code",
   "execution_count": 4,
   "metadata": {},
   "outputs": [],
   "source": [
    "# set up model -> logistic regression\n",
    "class LogisticRegression(nn.Module):\n",
    "    def __init__(self, n_input_features):\n",
    "        super(LogisticRegression, self).__init__()\n",
    "        \n",
    "        # define layer: input_size -> output_size\n",
    "        self.linear = nn.Linear(n_input_features, 1)\n",
    "\n",
    "    def forward(self, x):\n",
    "        y_pred = torch.sigmoid(self.linear(x))\n",
    "        return y_pred\n",
    "\n",
    "# create model\n",
    "model = LogisticRegression(n_features)\n"
   ]
  },
  {
   "cell_type": "code",
   "execution_count": 5,
   "metadata": {},
   "outputs": [],
   "source": [
    "# loss and optimizer\n",
    "learning_rate = 0.03\n",
    "\n",
    "# binary cross entropy loss\n",
    "criteria = nn.BCELoss()\n",
    "\n",
    "# stochastic gradient descent\n",
    "optimizer = torch.optim.Adam(model.parameters(), lr=learning_rate)"
   ]
  },
  {
   "cell_type": "code",
   "execution_count": 8,
   "metadata": {},
   "outputs": [
    {
     "name": "stdout",
     "output_type": "stream",
     "text": [
      "epoch: 10, loss = 0.0238\n",
      "epoch: 20, loss = 0.0236\n",
      "epoch: 30, loss = 0.0234\n",
      "epoch: 40, loss = 0.0233\n",
      "epoch: 50, loss = 0.0231\n",
      "epoch: 60, loss = 0.0230\n",
      "epoch: 70, loss = 0.0228\n",
      "epoch: 80, loss = 0.0227\n",
      "epoch: 90, loss = 0.0225\n",
      "epoch: 100, loss = 0.0224\n",
      "epoch: 110, loss = 0.0222\n",
      "epoch: 120, loss = 0.0221\n",
      "epoch: 130, loss = 0.0220\n",
      "epoch: 140, loss = 0.0218\n",
      "epoch: 150, loss = 0.0217\n",
      "epoch: 160, loss = 0.0215\n",
      "epoch: 170, loss = 0.0214\n",
      "epoch: 180, loss = 0.0213\n",
      "epoch: 190, loss = 0.0212\n",
      "epoch: 200, loss = 0.0210\n",
      "epoch: 210, loss = 0.0209\n",
      "epoch: 220, loss = 0.0208\n",
      "epoch: 230, loss = 0.0207\n",
      "epoch: 240, loss = 0.0205\n",
      "epoch: 250, loss = 0.0204\n",
      "epoch: 260, loss = 0.0203\n",
      "epoch: 270, loss = 0.0202\n",
      "epoch: 280, loss = 0.0201\n",
      "epoch: 290, loss = 0.0199\n",
      "epoch: 300, loss = 0.0198\n",
      "epoch: 310, loss = 0.0197\n",
      "epoch: 320, loss = 0.0196\n",
      "epoch: 330, loss = 0.0195\n",
      "epoch: 340, loss = 0.0194\n",
      "epoch: 350, loss = 0.0193\n",
      "epoch: 360, loss = 0.0192\n",
      "epoch: 370, loss = 0.0190\n",
      "epoch: 380, loss = 0.0189\n",
      "epoch: 390, loss = 0.0188\n",
      "epoch: 400, loss = 0.0187\n",
      "epoch: 410, loss = 0.0186\n",
      "epoch: 420, loss = 0.0185\n",
      "epoch: 430, loss = 0.0184\n",
      "epoch: 440, loss = 0.0183\n",
      "epoch: 450, loss = 0.0182\n",
      "epoch: 460, loss = 0.0181\n",
      "epoch: 470, loss = 0.0180\n",
      "epoch: 480, loss = 0.0179\n",
      "epoch: 490, loss = 0.0178\n",
      "epoch: 500, loss = 0.0177\n"
     ]
    }
   ],
   "source": [
    "n_epochs = 200\n",
    "for epoch in range(n_epochs):\n",
    "    # forward propagation ans loss\n",
    "    y_pred = model(X_train)\n",
    "    loss = criteria(y_pred, y_train)\n",
    "    \n",
    "    # backward propagation\n",
    "    loss.backward()\n",
    "    \n",
    "    # uptade\n",
    "    optimizer.step()\n",
    "    \n",
    "    # zero gradients (backward function will always add up all the gradients into .grad attribute)\n",
    "    optimizer.zero_grad()\n",
    "    \n",
    "    if (epoch+1) % 10 == 0:\n",
    "        print(f'epoch: {epoch+1}, loss = {loss.item():.4f}')\n",
    "        "
   ]
  },
  {
   "cell_type": "code",
   "execution_count": 7,
   "metadata": {},
   "outputs": [
    {
     "name": "stdout",
     "output_type": "stream",
     "text": [
      "accuracy = 0.9561\n"
     ]
    }
   ],
   "source": [
    "with torch.no_grad():\n",
    "    y_pred = model(X_test)\n",
    "    y_pred_class = y_pred.round()\n",
    "    acc = y_pred_class.eq(y_test).sum() / float(y_test.shape[0])\n",
    "    print(f'accuracy = {acc:.4f}')"
   ]
  },
  {
   "cell_type": "code",
   "execution_count": null,
   "metadata": {},
   "outputs": [],
   "source": []
  }
 ],
 "metadata": {
  "kernelspec": {
   "display_name": "Python 3",
   "language": "python",
   "name": "python3"
  },
  "language_info": {
   "codemirror_mode": {
    "name": "ipython",
    "version": 3
   },
   "file_extension": ".py",
   "mimetype": "text/x-python",
   "name": "python",
   "nbconvert_exporter": "python",
   "pygments_lexer": "ipython3",
   "version": "3.8.5"
  }
 },
 "nbformat": 4,
 "nbformat_minor": 4
}
